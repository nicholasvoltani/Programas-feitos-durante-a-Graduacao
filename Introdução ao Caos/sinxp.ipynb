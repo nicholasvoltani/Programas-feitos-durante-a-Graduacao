{
 "cells": [
  {
   "cell_type": "code",
   "execution_count": 1,
   "metadata": {},
   "outputs": [],
   "source": [
    "import numpy as np\n",
    "import matplotlib.pyplot as plt"
   ]
  },
  {
   "cell_type": "markdown",
   "metadata": {},
   "source": [
    "Let a differential system be defined as"
   ]
  },
  {
   "cell_type": "markdown",
   "metadata": {},
   "source": [
    "$$\\begin{align*}\n",
    "    x_{n+1} = \\frac{\\sin(x_n)}{p}\n",
    "\\end{align*}$$"
   ]
  },
  {
   "cell_type": "markdown",
   "metadata": {},
   "source": [
    "with $p \\in \\mathbb{R}$."
   ]
  },
  {
   "cell_type": "markdown",
   "metadata": {},
   "source": [
    "## Algorithm for finding fixed points"
   ]
  },
  {
   "cell_type": "markdown",
   "metadata": {},
   "source": [
    "To create our bifurcation diagram, we simply iterate"
   ]
  },
  {
   "cell_type": "markdown",
   "metadata": {},
   "source": [
    "$$\\begin{align*}\n",
    "    x_{n+1} = f(x_n) = \\frac{\\sin(x_n)}{p}\n",
    "\\end{align*}$$"
   ]
  },
  {
   "cell_type": "markdown",
   "metadata": {},
   "source": [
    "for some $x_0$ and for different $p$'s. Note that $x^*=0$ is an attracting fixed point for $p>1$, since\n",
    "$$\\begin{align*}\n",
    "    \\left|\\frac{df}{dx}\\right|_{x^*=0} = \\left|\\frac{\\cos(0)}{p}\\right| = \\left|\\frac{1}{p}\\right| < 1\n",
    "\\end{align*}$$\n",
    "\n",
    "and becomes a repelling fixed point for $p<1$, since\n",
    "$$\\begin{align*}\n",
    "    \\left|\\frac{df}{dx}\\right|_{x^*=0} = \\left|\\frac{\\cos(0)}{p}\\right| = \\left|\\frac{1}{p}\\right| > 1\n",
    "\\end{align*}$$\n",
    "The code is in <code>strogatz-cont.py</code>."
   ]
  },
  {
   "cell_type": "markdown",
   "metadata": {},
   "source": [
    "![](strogatsz.png)"
   ]
  },
  {
   "cell_type": "markdown",
   "metadata": {},
   "source": [
    "Although initially there are simple bifurcations (going from right to left), there quickly appears some chaotic phases, followed by simple bifurcations \"breaks\" inbetween. "
   ]
  },
  {
   "cell_type": "markdown",
   "metadata": {},
   "source": [
    "Just a side node: for each $(p, x^*)$, I plotted its corresponding *pixel* in the plane. So when it's all blue, (basically) *all* single pixels are blue/are a fixed point. "
   ]
  },
  {
   "cell_type": "markdown",
   "metadata": {},
   "source": [
    " "
   ]
  },
  {
   "cell_type": "markdown",
   "metadata": {},
   "source": [
    "Below is the Lyapunov exponents' plot, against $p$."
   ]
  },
  {
   "cell_type": "markdown",
   "metadata": {},
   "source": [
    "![](lyapunovstrog.png)"
   ]
  }
 ],
 "metadata": {
  "kernelspec": {
   "display_name": "Python 3",
   "language": "python",
   "name": "python3"
  },
  "language_info": {
   "codemirror_mode": {
    "name": "ipython",
    "version": 3
   },
   "file_extension": ".py",
   "mimetype": "text/x-python",
   "name": "python",
   "nbconvert_exporter": "python",
   "pygments_lexer": "ipython3",
   "version": "3.7.3"
  }
 },
 "nbformat": 4,
 "nbformat_minor": 4
}
