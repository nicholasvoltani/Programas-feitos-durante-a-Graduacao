{
 "cells": [
  {
   "cell_type": "markdown",
   "metadata": {},
   "source": [
    "# Rössler Attractor\n"
   ]
  },
  {
   "cell_type": "markdown",
   "metadata": {},
   "source": [
    "A Rössler system of differential equations is defined as:"
   ]
  },
  {
   "cell_type": "markdown",
   "metadata": {},
   "source": [
    "$$\n",
    "\\begin{align}\n",
    "\\begin{cases}\n",
    "\\frac{dx}{dt} &= -z - y\\\\\n",
    "\\frac{dy}{dt} &= x + ay\\\\\n",
    "\\frac{dz}{dt} &= b + (x-c)z\n",
    "\\end{cases}\n",
    "\\end{align}\n",
    "$$"
   ]
  },
  {
   "cell_type": "markdown",
   "metadata": {},
   "source": [
    "where $a,b,c$ are parameters."
   ]
  },
  {
   "cell_type": "code",
   "execution_count": 1,
   "metadata": {},
   "outputs": [],
   "source": [
    "import numpy as np\n",
    "import matplotlib.pyplot as plt\n",
    "from mpl_toolkits.mplot3d import Axes3D"
   ]
  },
  {
   "cell_type": "markdown",
   "metadata": {},
   "source": [
    "We can solve it via Euler's method, as follows:"
   ]
  },
  {
   "cell_type": "code",
   "execution_count": 15,
   "metadata": {},
   "outputs": [],
   "source": [
    "def Euler(dt,vars,params,funcs):\n",
    "    '''Takes as input arrays of variables vars[t], relevant parameters, and respective DE functions of \\dot{x} = f_x. \n",
    "    Returns array of updated variables vars[t+dt].\n",
    "    Assumes f(vars[0],...,vars[n],params[0],...,params[m]).\n",
    "    '''\n",
    "    update = np.array([f(*vars,*params) for f in funcs])\n",
    "    return vars + update*dt"
   ]
  },
  {
   "cell_type": "markdown",
   "metadata": {},
   "source": [
    "Defining the differential equations system, as well as the parameters and initial conditions:"
   ]
  },
  {
   "cell_type": "code",
   "execution_count": 3,
   "metadata": {},
   "outputs": [],
   "source": [
    "def fx(x,y,z,a,b,c):\n",
    "    return -z -y\n",
    "def fy(x,y,z,a,b,c):\n",
    "    return x+a*y\n",
    "def fz(x,y,z,a,b,c):\n",
    "    return b + (x-c)*z\n",
    "\n",
    "x = np.array([-0.006]) ## x_0\n",
    "y = np.array([0.1]) ## y_0\n",
    "z = np.array([0.1]) ## z_0\n",
    "params = np.array([0.1,0.1,5.3]) ## a,b,c\n",
    "funcs = np.array([fx,fy,fz])"
   ]
  },
  {
   "cell_type": "markdown",
   "metadata": {},
   "source": [
    "We run it for some arbitrary time $T$ (in this case, $T = 1000$, $dt = 0.01$)."
   ]
  },
  {
   "cell_type": "markdown",
   "metadata": {},
   "source": [
    "<table><tr><td><img src='rossler.png'></td><td><img src='rossler1.png'></td></tr></table>"
   ]
  }
 ],
 "metadata": {
  "kernelspec": {
   "display_name": "Python 3",
   "language": "python",
   "name": "python3"
  },
  "language_info": {
   "codemirror_mode": {
    "name": "ipython",
    "version": 3
   },
   "file_extension": ".py",
   "mimetype": "text/x-python",
   "name": "python",
   "nbconvert_exporter": "python",
   "pygments_lexer": "ipython3",
   "version": "3.8.2"
  }
 },
 "nbformat": 4,
 "nbformat_minor": 4
}
