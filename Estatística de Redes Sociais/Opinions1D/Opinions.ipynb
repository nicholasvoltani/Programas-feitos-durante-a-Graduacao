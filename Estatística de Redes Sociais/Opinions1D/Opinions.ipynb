{
 "cells": [
  {
   "cell_type": "markdown",
   "metadata": {},
   "source": [
    "# Propagation of Opinions in 1D systems"
   ]
  },
  {
   "cell_type": "markdown",
   "metadata": {},
   "source": [
    "## Individual Opinion-Changing"
   ]
  },
  {
   "cell_type": "markdown",
   "metadata": {},
   "source": [
    "As a simple algorithm to analyze the propagation of positive/negative opinions of some population, we assume they are distributed along a circle, being prone to changing their opinions based on their influencers' opinions (in our case, their direct neighbors)."
   ]
  },
  {
   "cell_type": "markdown",
   "metadata": {},
   "source": [
    "The base algorithm is as follows:\n",
    "1. Let $\\mathcal{A} = \\{k\\}_{k=1}^N = \\{1, \\dots, N\\}$ be our population;\n",
    "2. Our agents' opinions are $\\pm 1$; we denote by $\\mathcal{O} = \\{1, -1\\}$ our set of possible opinions;\n",
    "3. We initialize random opinions for each agent; we denote them as $\\{X_0(a)\\}_{a \\in \\mathcal{A}}$."
   ]
  },
  {
   "cell_type": "markdown",
   "metadata": {},
   "source": [
    "We seek to analyze the evolution of opinions $X_n$ at times $n \\in \\mathbb{N}$. \n",
    "\n",
    "At first, we'll see how this evolution goes for individual opinion shifts at each instant. For each instant of time $n \\in \\mathbb{N}$, we'll draw some agent at random, and change its opinion based on its influencers/neighbors' opinions as follows:\n",
    "4. $\\forall n \\in \\mathbb{N}$, let $A_k \\in \\mathcal{A}$ be a randomly drawn agent from the population (with probability $\\frac{1}{N}$);\n",
    "5. $A_k$ will change his opinion $O_n^{(k)} = o \\in \\mathcal{O}$ based on his influencers' past's opinions, with probabilities $P(O_n^{(k)} = \\pm 1 \\mid X_{t-1}, A_k) = \\frac{U_{n-1}^{\\pm}}{U_{n-1}^+ + \\,U_{n-1}^-}$ being equal to the fraction of neighbors having opinions $\\pm 1$. Equivalently, they can pick at random some influencer, and take their opinion as well."
   ]
  },
  {
   "cell_type": "markdown",
   "metadata": {},
   "source": [
    "We can see that, although it may take long to converge, the dynamics does converge to either $+1$ (blue) or $-1$ (red). The code for it is in <code>indv_opinions.py</code>."
   ]
  },
  {
   "cell_type": "markdown",
   "metadata": {},
   "source": [
    "![](individual_opinions.gif)"
   ]
  },
  {
   "cell_type": "markdown",
   "metadata": {},
   "source": [
    "![](individual_opinions2.gif)"
   ]
  },
  {
   "cell_type": "markdown",
   "metadata": {},
   "source": [
    "If we change the initial probabilities of choosing an opinion, we expect the same behavior, although it may converge more quickly to the preferred opinion. "
   ]
  },
  {
   "cell_type": "markdown",
   "metadata": {},
   "source": [
    "![](diff_opinions.gif)"
   ]
  },
  {
   "cell_type": "markdown",
   "metadata": {},
   "source": [
    "We can also add a \"bot\", i.e. someone whose opinion does **not** change during the iterations. Then, the entire population is bound to polarize towards its opinion (though it may take a while...)."
   ]
  },
  {
   "cell_type": "markdown",
   "metadata": {},
   "source": [
    "![](robot.gif)"
   ]
  },
  {
   "cell_type": "markdown",
   "metadata": {},
   "source": [
    "![](robot1.gif)"
   ]
  },
  {
   "cell_type": "markdown",
   "metadata": {},
   "source": [
    "## Simultaneous Opinion-Changing"
   ]
  },
  {
   "cell_type": "markdown",
   "metadata": {},
   "source": [
    "We can also analyze what happens when each agent changes their opinions at each instant of time, based on their respective influencers' past opinions, by doing the above for all agents, instead of only one per iteration. The code is in <code>opinions1.py</code>"
   ]
  },
  {
   "cell_type": "markdown",
   "metadata": {},
   "source": [
    "![](Opinions1.gif \"Opinions\")"
   ]
  },
  {
   "cell_type": "markdown",
   "metadata": {},
   "source": [
    "![](Opinions2.gif \"Opinions\")"
   ]
  },
  {
   "cell_type": "markdown",
   "metadata": {},
   "source": [
    "![](Opinions3.gif \"Opinions\")"
   ]
  },
  {
   "cell_type": "markdown",
   "metadata": {},
   "source": [
    "Aside from the convergence toward total polarization ($\\pm 1$), we also see something interesting: a $50/50$ behavior emerges, in which every agent changes opinion with $100\\%$ certainty at each instant of time."
   ]
  }
 ],
 "metadata": {
  "kernelspec": {
   "display_name": "Python 3",
   "language": "python",
   "name": "python3"
  },
  "language_info": {
   "codemirror_mode": {
    "name": "ipython",
    "version": 3
   },
   "file_extension": ".py",
   "mimetype": "text/x-python",
   "name": "python",
   "nbconvert_exporter": "python",
   "pygments_lexer": "ipython3",
   "version": "3.7.3"
  }
 },
 "nbformat": 4,
 "nbformat_minor": 2
}
