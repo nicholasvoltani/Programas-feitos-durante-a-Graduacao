{
 "cells": [
  {
   "cell_type": "markdown",
   "metadata": {},
   "source": [
    "# Maximum Likelihoods for Nested Adjacency Matrices in Erdős-Rényi Graphs"
   ]
  },
  {
   "cell_type": "markdown",
   "metadata": {},
   "source": [
    "Let us have a sequence $\\left(G(N,p)\\right)_{N=2}^{\\infty}$ of Erdős-Rényi graphs defined in such a way as to have\n",
    "\n",
    "$$M_{N+1}(v,v') = M_N(v,v'), \\, \\forall v,v' \\in [1,N]$$ \n",
    "\n",
    "That is, previous adjacency matrices are nested inside following matrices. (Perhaps it's worth mentioning that  adjacency matrices herein are upper-triangular.)"
   ]
  },
  {
   "cell_type": "markdown",
   "metadata": {},
   "source": [
    "Our objective is to analyze\n",
    "$$\\lim\\limits_{N \\to \\infty} \\hat{p}_{p,N}$$ \n",
    "that is, how the maximum likelihood estimator evolves as the graph increases in these circumstances. The plots below show just that. "
   ]
  },
  {
   "cell_type": "markdown",
   "metadata": {},
   "source": [
    "![](maxlikelihood.png)"
   ]
  },
  {
   "cell_type": "markdown",
   "metadata": {},
   "source": [
    "Note that $p \\in {0,1}$ are trivial realizations: complete isolation and complete connectedness, respectively. \n",
    "\n",
    "It's also interesting to note that, at the start of iterations ($N=2$), we have that $p_{p,2} \\in \\{0,1\\}$: both nodes are either connected (locally \"equivalent\" to a $p=1$ realization) or not (likewise for $p=0$)."
   ]
  },
  {
   "cell_type": "markdown",
   "metadata": {},
   "source": [
    "![](maxlikelihood2.png)"
   ]
  },
  {
   "cell_type": "markdown",
   "metadata": {},
   "source": [
    "Thus, it's safe to assume that\n",
    "\n",
    "$$\\lim\\limits_{N\\to\\infty} \\hat{p}_{p,N} = p$$\n",
    "a remarkable result, indeed!"
   ]
  }
 ],
 "metadata": {
  "kernelspec": {
   "display_name": "Python 3",
   "language": "python",
   "name": "python3"
  },
  "language_info": {
   "codemirror_mode": {
    "name": "ipython",
    "version": 3
   },
   "file_extension": ".py",
   "mimetype": "text/x-python",
   "name": "python",
   "nbconvert_exporter": "python",
   "pygments_lexer": "ipython3",
   "version": "3.7.3"
  }
 },
 "nbformat": 4,
 "nbformat_minor": 2
}
