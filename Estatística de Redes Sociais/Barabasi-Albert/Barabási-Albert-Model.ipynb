{
 "cells": [
  {
   "cell_type": "markdown",
   "metadata": {},
   "source": [
    "# Barabási-Albert Model (Preferential Attachment)"
   ]
  },
  {
   "cell_type": "markdown",
   "metadata": {},
   "source": [
    "In 1999, Albert-László Barabási and Réka Albert proposed a model for networks following a preferential attachment mechanism, as follows:"
   ]
  },
  {
   "cell_type": "markdown",
   "metadata": {},
   "source": [
    "Given a starting network $G = (V,E)$, we add a new node $v'$ to $V$, with the probability of having an edge to some previous node $n \\in V$ as\n",
    "\n",
    "$$P\\left(e = (v',n)\\right) = \\frac{\\deg(v')}{\\sum\\limits_{v \\in V} \\deg(v)}$$\n",
    "\n",
    "That is, nodes which already had a high degree, tend to have a higher chance of having edges with forthcoming nodes. Some call it a *rich-gets-richer* mechanism."
   ]
  },
  {
   "cell_type": "markdown",
   "metadata": {},
   "source": [
    "![](ba1.gif)"
   ]
  },
  {
   "cell_type": "markdown",
   "metadata": {},
   "source": [
    "Note that darker nodes (with higher degree) tend to cluster mode nodes to themselves as time advances."
   ]
  },
  {
   "cell_type": "markdown",
   "metadata": {},
   "source": [
    "![](bar.gif)"
   ]
  },
  {
   "cell_type": "markdown",
   "metadata": {},
   "source": [
    "In here, it's explicit that more ''popular'' nodes get more ''popular''."
   ]
  }
 ],
 "metadata": {
  "kernelspec": {
   "display_name": "Python 3",
   "language": "python",
   "name": "python3"
  },
  "language_info": {
   "codemirror_mode": {
    "name": "ipython",
    "version": 3
   },
   "file_extension": ".py",
   "mimetype": "text/x-python",
   "name": "python",
   "nbconvert_exporter": "python",
   "pygments_lexer": "ipython3",
   "version": "3.8.2"
  }
 },
 "nbformat": 4,
 "nbformat_minor": 4
}
